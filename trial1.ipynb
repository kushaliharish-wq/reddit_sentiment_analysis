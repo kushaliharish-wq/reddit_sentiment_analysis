{
 "cells": [
  {
   "cell_type": "markdown",
   "id": "c243f9ab",
   "metadata": {},
   "source": [
    "Setting up reddit API using praw"
   ]
  },
  {
   "cell_type": "code",
   "execution_count": null,
   "id": "4a0c0081",
   "metadata": {},
   "outputs": [],
   "source": [
    "import praw\n",
    "import pandas as pd\n",
    "from textblob import TextBlob\n",
    "import yfinance as yf\n",
    "from datetime import datetime, timedelta\n",
    "import snowflake.connector\n",
    "\n",
    "from dotenv import load_dotenv\n",
    "import os\n",
    "\n",
    "\n",
    "\n",
    "load_dotenv()\n",
    "reddit = praw.Reddit(\n",
    "    client_id=os.getenv('REDDIT_CLIENT_ID'),\n",
    "    client_secret=os.getenv('REDDIT_CLIENT_SECRET'),\n",
    "    user_agent=os.getenv('REDDIT_USER_AGENT')\n",
    ")\n"
   ]
  },
  {
   "cell_type": "markdown",
   "id": "07925412",
   "metadata": {},
   "source": [
    "Getting hot/top posts from r/CryptoCurrency and r/bitcoin"
   ]
  },
  {
   "cell_type": "code",
   "execution_count": 72,
   "id": "7f77bf2e",
   "metadata": {},
   "outputs": [
    {
     "name": "stderr",
     "output_type": "stream",
     "text": [
      "/var/folders/j4/94cr8gn16cjf0bwfn812nf5r0000gn/T/ipykernel_49404/1485747408.py:17: DeprecationWarning: datetime.datetime.utcfromtimestamp() is deprecated and scheduled for removal in a future version. Use timezone-aware objects to represent datetimes in UTC: datetime.datetime.fromtimestamp(timestamp, datetime.UTC).\n",
      "  'created_utc': datetime.utcfromtimestamp(post.created_utc),\n"
     ]
    }
   ],
   "source": [
    "import pandas as pd\n",
    "from datetime import datetime\n",
    "from vaderSentiment.vaderSentiment import SentimentIntensityAnalyzer\n",
    "\n",
    "analyzer = SentimentIntensityAnalyzer()\n",
    "\n",
    "def fetch_posts(subreddit_name, limit=100):\n",
    "    subreddit = reddit.subreddit(subreddit_name)\n",
    "    posts = []\n",
    "    for post in subreddit.hot(limit=limit):\n",
    "        sentiment = analyzer.polarity_scores(post.title + \" \" + (post.selftext or \"\"))\n",
    "        posts.append({\n",
    "            'subreddit': subreddit_name,\n",
    "            'title': post.title,\n",
    "            'score': post.score,\n",
    "            'comments': post.num_comments,\n",
    "            'created_utc': datetime.utcfromtimestamp(post.created_utc),\n",
    "            'sentiment': sentiment['compound']\n",
    "        })\n",
    "    return pd.DataFrame(posts)\n",
    "\n",
    "df_crypto = fetch_posts('CryptoCurrency')\n",
    "df_bitcoin = fetch_posts('bitcoin')\n",
    "\n",
    "df_all = pd.concat([df_crypto, df_bitcoin])\n",
    "df_all['sentiment_class'] = df_all['sentiment'].apply(lambda x: 'positive' if x > 0.2 else 'negative' if x < -0.2 else 'neutral')\n",
    "\n"
   ]
  },
  {
   "cell_type": "markdown",
   "id": "dcf9d905",
   "metadata": {},
   "source": [
    "Popular crypto on Reddit based on past weeks posts"
   ]
  },
  {
   "cell_type": "code",
   "execution_count": null,
   "id": "ad3c731a",
   "metadata": {},
   "outputs": [
    {
     "name": "stderr",
     "output_type": "stream",
     "text": [
      "/var/folders/j4/94cr8gn16cjf0bwfn812nf5r0000gn/T/ipykernel_49404/751639385.py:23: DeprecationWarning: datetime.datetime.utcnow() is deprecated and scheduled for removal in a future version. Use timezone-aware objects to represent datetimes in UTC: datetime.datetime.now(datetime.UTC).\n",
      "  one_week_ago = datetime.utcnow() - timedelta(days=7)\n",
      "/var/folders/j4/94cr8gn16cjf0bwfn812nf5r0000gn/T/ipykernel_49404/751639385.py:29: DeprecationWarning: datetime.datetime.utcfromtimestamp() is deprecated and scheduled for removal in a future version. Use timezone-aware objects to represent datetimes in UTC: datetime.datetime.fromtimestamp(timestamp, datetime.UTC).\n",
      "  if datetime.utcfromtimestamp(post.created_utc) >= one_week_ago:\n",
      "/var/folders/j4/94cr8gn16cjf0bwfn812nf5r0000gn/T/ipykernel_49404/751639385.py:33: DeprecationWarning: datetime.datetime.utcfromtimestamp() is deprecated and scheduled for removal in a future version. Use timezone-aware objects to represent datetimes in UTC: datetime.datetime.fromtimestamp(timestamp, datetime.UTC).\n",
      "  \"created\": datetime.utcfromtimestamp(post.created_utc).strftime('%Y-%m-%d'),\n"
     ]
    },
    {
     "name": "stdout",
     "output_type": "stream",
     "text": [
      "mention_count Counter({'bitcoin': 125, 'ethereum': 47, 'btc': 43, 'solana': 19, 'eth': 17, 'xrp': 9, 'cardano': 8, 'sol': 6, 'polygon': 3, 'ada': 2, 'doge': 2})\n"
     ]
    },
    {
     "name": "stderr",
     "output_type": "stream",
     "text": [
      "/var/folders/j4/94cr8gn16cjf0bwfn812nf5r0000gn/T/ipykernel_49404/751639385.py:58: FutureWarning: \n",
      "\n",
      "Passing `palette` without assigning `hue` is deprecated and will be removed in v0.14.0. Assign the `y` variable to `hue` and set `legend=False` for the same effect.\n",
      "\n",
      "  sns.barplot(data=mention_df.head(10), x=\"Mentions\", y=\"Coin\", palette=\"viridis\")\n"
     ]
    },
    {
     "data": {
      "image/png": "[encoded data removed]",
      "text/plain": [
       "<Figure size 1000x600 with 1 Axes>"
      ]
     },
     "metadata": {},
     "output_type": "display_data"
    }
   ],
   "source": [
    "import praw\n",
    "import pandas as pd\n",
    "from datetime import datetime, timedelta\n",
    "import re\n",
    "from collections import Counter\n",
    "import matplotlib.pyplot as plt\n",
    "import seaborn as sns\n",
    "\n",
    "# Timeframe\n",
    "one_week_ago = datetime.utcnow() - timedelta(days=7)\n",
    "\n",
    "# Fetch posts\n",
    "subreddit = reddit.subreddit(\"CryptoCurrency\")\n",
    "posts = []\n",
    "for post in subreddit.top(time_filter=\"week\", limit=1000):\n",
    "    if datetime.utcfromtimestamp(post.created_utc) >= one_week_ago:\n",
    "        posts.append({\n",
    "            \"title\": post.title,\n",
    "            \"selftext\": post.selftext,\n",
    "            \"created\": datetime.utcfromtimestamp(post.created_utc).strftime('%Y-%m-%d'),\n",
    "            \"score\": post.score,\n",
    "            \"num_comments\": post.num_comments\n",
    "        })\n",
    "\n",
    "df = pd.DataFrame(posts)\n",
    "\n",
    "# Crypto keyword match\n",
    "keywords = [\"BTC\", \"Bitcoin\", \"ETH\", \"Ethereum\", \"SOL\", \"Solana\", \"DOGE\", \"Dogecoin\", \n",
    "            \"ADA\", \"Cardano\", \"XRP\", \"AVAX\", \"DOT\", \"SHIB\", \"MATIC\", \"Polygon\"]\n",
    "pattern = r\"\\b(\" + \"|\".join(re.escape(word.lower()) for word in keywords) + r\")\\b\"\n",
    "df[\"combined_text\"] = (df[\"title\"] + \" \" + df[\"selftext\"]).str.lower()\n",
    "\n",
    "# Count mentions\n",
    "all_mentions = []\n",
    "for text in df[\"combined_text\"]:\n",
    "    mentions = re.findall(pattern, text)\n",
    "    all_mentions.extend(mentions)\n",
    "\n",
    "mention_counts = Counter(all_mentions)\n",
    "mention_df = pd.DataFrame(mention_counts.items(), columns=[\"Coin\", \"Mentions\"]).sort_values(by=\"Mentions\", ascending=False)\n",
    "print(\"mention_count\",mention_counts)\n",
    "mention_df.to_csv(\"crypto_popularity.csv\", index=False)\n",
    "# Plot\n",
    "plt.figure(figsize=(10, 6))\n",
    "sns.barplot(data=mention_df.head(10), x=\"Mentions\", y=\"Coin\", palette=\"viridis\")\n",
    "plt.title(\"Top 10 Most Mentioned Cryptos on r/CryptoCurrency (Past Week)\")\n",
    "plt.xlabel(\"Mentions\")\n",
    "plt.ylabel(\"Coin\")\n",
    "plt.tight_layout()\n",
    "plt.show()\n"
   ]
  },
  {
   "cell_type": "markdown",
   "id": "1cc06505",
   "metadata": {},
   "source": [
    "Bitcoin price analysis vs reddit sentiment"
   ]
  },
  {
   "cell_type": "code",
   "execution_count": 41,
   "id": "4f707ca6",
   "metadata": {},
   "outputs": [
    {
     "name": "stderr",
     "output_type": "stream",
     "text": [
      "/var/folders/j4/94cr8gn16cjf0bwfn812nf5r0000gn/T/ipykernel_49404/2248496210.py:1: DeprecationWarning: datetime.datetime.utcnow() is deprecated and scheduled for removal in a future version. Use timezone-aware objects to represent datetimes in UTC: datetime.datetime.now(datetime.UTC).\n",
      "  end_date = datetime.utcnow()\n",
      "/var/folders/j4/94cr8gn16cjf0bwfn812nf5r0000gn/T/ipykernel_49404/2248496210.py:6: DeprecationWarning: datetime.datetime.utcfromtimestamp() is deprecated and scheduled for removal in a future version. Use timezone-aware objects to represent datetimes in UTC: datetime.datetime.fromtimestamp(timestamp, datetime.UTC).\n",
      "  created = datetime.utcfromtimestamp(post.created_utc)\n"
     ]
    },
    {
     "data": {
      "text/html": [
       "<div>\n",
       "<style scoped>\n",
       "    .dataframe tbody tr th:only-of-type {\n",
       "        vertical-align: middle;\n",
       "    }\n",
       "\n",
       "    .dataframe tbody tr th {\n",
       "        vertical-align: top;\n",
       "    }\n",
       "\n",
       "    .dataframe thead th {\n",
       "        text-align: right;\n",
       "    }\n",
       "</style>\n",
       "<table border=\"1\" class=\"dataframe\">\n",
       "  <thead>\n",
       "    <tr style=\"text-align: right;\">\n",
       "      <th></th>\n",
       "      <th>date</th>\n",
       "      <th>title</th>\n",
       "      <th>selftext</th>\n",
       "    </tr>\n",
       "  </thead>\n",
       "  <tbody>\n",
       "    <tr>\n",
       "      <th>0</th>\n",
       "      <td>2025-04-25</td>\n",
       "      <td>11 years ago...</td>\n",
       "      <td># A legend was born\\n\\nThis guy is a legend.\\n...</td>\n",
       "    </tr>\n",
       "    <tr>\n",
       "      <th>1</th>\n",
       "      <td>2025-04-28</td>\n",
       "      <td>$1,400 Stimulus Check is Now Worth $22K</td>\n",
       "      <td></td>\n",
       "    </tr>\n",
       "    <tr>\n",
       "      <th>2</th>\n",
       "      <td>2025-04-23</td>\n",
       "      <td>This guy was mining 1 Bitcoin per day in 2011 😲</td>\n",
       "      <td></td>\n",
       "    </tr>\n",
       "    <tr>\n",
       "      <th>3</th>\n",
       "      <td>2025-05-14</td>\n",
       "      <td>Just in: Bitcoin 200k this year confirmed!</td>\n",
       "      <td></td>\n",
       "    </tr>\n",
       "    <tr>\n",
       "      <th>4</th>\n",
       "      <td>2025-04-22</td>\n",
       "      <td>THIS...</td>\n",
       "      <td># No one wants this to happen to them\\n\\nThis ...</td>\n",
       "    </tr>\n",
       "    <tr>\n",
       "      <th>...</th>\n",
       "      <td>...</td>\n",
       "      <td>...</td>\n",
       "      <td>...</td>\n",
       "    </tr>\n",
       "    <tr>\n",
       "      <th>495</th>\n",
       "      <td>2025-05-13</td>\n",
       "      <td>Lightning fixes this ⚡️</td>\n",
       "      <td></td>\n",
       "    </tr>\n",
       "    <tr>\n",
       "      <th>496</th>\n",
       "      <td>2025-05-03</td>\n",
       "      <td>Bitaxe ⚡️ Bitcoin miner cooled by the water of...</td>\n",
       "      <td></td>\n",
       "    </tr>\n",
       "    <tr>\n",
       "      <th>497</th>\n",
       "      <td>2025-04-23</td>\n",
       "      <td>Bitcoin is the Future</td>\n",
       "      <td></td>\n",
       "    </tr>\n",
       "    <tr>\n",
       "      <th>498</th>\n",
       "      <td>2025-05-19</td>\n",
       "      <td>Out the way old man.</td>\n",
       "      <td></td>\n",
       "    </tr>\n",
       "    <tr>\n",
       "      <th>499</th>\n",
       "      <td>2025-05-08</td>\n",
       "      <td>Anything under 180k is a bargain.</td>\n",
       "      <td>M2, SEND IT!</td>\n",
       "    </tr>\n",
       "  </tbody>\n",
       "</table>\n",
       "<p>500 rows × 3 columns</p>\n",
       "</div>"
      ],
      "text/plain": [
       "           date                                              title  \\\n",
       "0    2025-04-25                                    11 years ago...   \n",
       "1    2025-04-28            $1,400 Stimulus Check is Now Worth $22K   \n",
       "2    2025-04-23    This guy was mining 1 Bitcoin per day in 2011 😲   \n",
       "3    2025-05-14         Just in: Bitcoin 200k this year confirmed!   \n",
       "4    2025-04-22                                            THIS...   \n",
       "..          ...                                                ...   \n",
       "495  2025-05-13                            Lightning fixes this ⚡️   \n",
       "496  2025-05-03  Bitaxe ⚡️ Bitcoin miner cooled by the water of...   \n",
       "497  2025-04-23                              Bitcoin is the Future   \n",
       "498  2025-05-19                               Out the way old man.   \n",
       "499  2025-05-08                  Anything under 180k is a bargain.   \n",
       "\n",
       "                                              selftext  \n",
       "0    # A legend was born\\n\\nThis guy is a legend.\\n...  \n",
       "1                                                       \n",
       "2                                                       \n",
       "3                                                       \n",
       "4    # No one wants this to happen to them\\n\\nThis ...  \n",
       "..                                                 ...  \n",
       "495                                                     \n",
       "496                                                     \n",
       "497                                                     \n",
       "498                                                     \n",
       "499                                       M2, SEND IT!  \n",
       "\n",
       "[500 rows x 3 columns]"
      ]
     },
     "execution_count": 41,
     "metadata": {},
     "output_type": "execute_result"
    }
   ],
   "source": [
    "end_date = datetime.utcnow()\n",
    "start_date = end_date - timedelta(days=60)\n",
    "posts = []\n",
    "\n",
    "for post in reddit.subreddit(\"bitcoin\").top(time_filter=\"month\", limit=500):\n",
    "    created = datetime.utcfromtimestamp(post.created_utc)\n",
    "    if created >= start_date:\n",
    "        posts.append({\n",
    "            \"date\": created.date(),\n",
    "            \"title\": post.title,\n",
    "            \"selftext\": post.selftext\n",
    "        })\n",
    "\n",
    "reddit_df = pd.DataFrame(posts)\n",
    "reddit_df"
   ]
  },
  {
   "cell_type": "code",
   "execution_count": null,
   "id": "7a05448e",
   "metadata": {},
   "outputs": [
    {
     "name": "stderr",
     "output_type": "stream",
     "text": [
      "Device set to use mps:0\n"
     ]
    },
    {
     "data": {
      "text/html": [
       "<div>\n",
       "<style scoped>\n",
       "    .dataframe tbody tr th:only-of-type {\n",
       "        vertical-align: middle;\n",
       "    }\n",
       "\n",
       "    .dataframe tbody tr th {\n",
       "        vertical-align: top;\n",
       "    }\n",
       "\n",
       "    .dataframe thead th {\n",
       "        text-align: right;\n",
       "    }\n",
       "</style>\n",
       "<table border=\"1\" class=\"dataframe\">\n",
       "  <thead>\n",
       "    <tr style=\"text-align: right;\">\n",
       "      <th></th>\n",
       "      <th>date</th>\n",
       "      <th>title</th>\n",
       "      <th>sentiment_class</th>\n",
       "      <th>sentiment_score</th>\n",
       "    </tr>\n",
       "  </thead>\n",
       "  <tbody>\n",
       "    <tr>\n",
       "      <th>0</th>\n",
       "      <td>2025-04-25</td>\n",
       "      <td>11 years ago...</td>\n",
       "      <td>Neutral</td>\n",
       "      <td>0.999707</td>\n",
       "    </tr>\n",
       "    <tr>\n",
       "      <th>1</th>\n",
       "      <td>2025-04-28</td>\n",
       "      <td>$1,400 Stimulus Check is Now Worth $22K</td>\n",
       "      <td>Neutral</td>\n",
       "      <td>0.999979</td>\n",
       "    </tr>\n",
       "    <tr>\n",
       "      <th>2</th>\n",
       "      <td>2025-04-23</td>\n",
       "      <td>This guy was mining 1 Bitcoin per day in 2011 😲</td>\n",
       "      <td>Neutral</td>\n",
       "      <td>0.999976</td>\n",
       "    </tr>\n",
       "    <tr>\n",
       "      <th>3</th>\n",
       "      <td>2025-05-14</td>\n",
       "      <td>Just in: Bitcoin 200k this year confirmed!</td>\n",
       "      <td>Neutral</td>\n",
       "      <td>0.999772</td>\n",
       "    </tr>\n",
       "    <tr>\n",
       "      <th>4</th>\n",
       "      <td>2025-04-22</td>\n",
       "      <td>THIS...</td>\n",
       "      <td>Neutral</td>\n",
       "      <td>0.993564</td>\n",
       "    </tr>\n",
       "    <tr>\n",
       "      <th>...</th>\n",
       "      <td>...</td>\n",
       "      <td>...</td>\n",
       "      <td>...</td>\n",
       "      <td>...</td>\n",
       "    </tr>\n",
       "    <tr>\n",
       "      <th>495</th>\n",
       "      <td>2025-05-13</td>\n",
       "      <td>Lightning fixes this ⚡️</td>\n",
       "      <td>Neutral</td>\n",
       "      <td>0.914040</td>\n",
       "    </tr>\n",
       "    <tr>\n",
       "      <th>496</th>\n",
       "      <td>2025-05-03</td>\n",
       "      <td>Bitaxe ⚡️ Bitcoin miner cooled by the water of...</td>\n",
       "      <td>Neutral</td>\n",
       "      <td>0.999951</td>\n",
       "    </tr>\n",
       "    <tr>\n",
       "      <th>497</th>\n",
       "      <td>2025-04-23</td>\n",
       "      <td>Bitcoin is the Future</td>\n",
       "      <td>Neutral</td>\n",
       "      <td>0.997954</td>\n",
       "    </tr>\n",
       "    <tr>\n",
       "      <th>498</th>\n",
       "      <td>2025-05-19</td>\n",
       "      <td>Out the way old man.</td>\n",
       "      <td>Neutral</td>\n",
       "      <td>0.990821</td>\n",
       "    </tr>\n",
       "    <tr>\n",
       "      <th>499</th>\n",
       "      <td>2025-05-08</td>\n",
       "      <td>Anything under 180k is a bargain.</td>\n",
       "      <td>Neutral</td>\n",
       "      <td>0.991375</td>\n",
       "    </tr>\n",
       "  </tbody>\n",
       "</table>\n",
       "<p>500 rows × 4 columns</p>\n",
       "</div>"
      ],
      "text/plain": [
       "           date                                              title  \\\n",
       "0    2025-04-25                                    11 years ago...   \n",
       "1    2025-04-28            $1,400 Stimulus Check is Now Worth $22K   \n",
       "2    2025-04-23    This guy was mining 1 Bitcoin per day in 2011 😲   \n",
       "3    2025-05-14         Just in: Bitcoin 200k this year confirmed!   \n",
       "4    2025-04-22                                            THIS...   \n",
       "..          ...                                                ...   \n",
       "495  2025-05-13                            Lightning fixes this ⚡️   \n",
       "496  2025-05-03  Bitaxe ⚡️ Bitcoin miner cooled by the water of...   \n",
       "497  2025-04-23                              Bitcoin is the Future   \n",
       "498  2025-05-19                               Out the way old man.   \n",
       "499  2025-05-08                  Anything under 180k is a bargain.   \n",
       "\n",
       "    sentiment_class  sentiment_score  \n",
       "0           Neutral         0.999707  \n",
       "1           Neutral         0.999979  \n",
       "2           Neutral         0.999976  \n",
       "3           Neutral         0.999772  \n",
       "4           Neutral         0.993564  \n",
       "..              ...              ...  \n",
       "495         Neutral         0.914040  \n",
       "496         Neutral         0.999951  \n",
       "497         Neutral         0.997954  \n",
       "498         Neutral         0.990821  \n",
       "499         Neutral         0.991375  \n",
       "\n",
       "[500 rows x 4 columns]"
      ]
     },
     "execution_count": 42,
     "metadata": {},
     "output_type": "execute_result"
    }
   ],
   "source": [
    "from transformers import AutoTokenizer, AutoModelForSequenceClassification, pipeline\n",
    "import pandas as pd\n",
    "\n",
    "# Load FinBERT model and tokenizer\n",
    "tokenizer = AutoTokenizer.from_pretrained(\"yiyanghkust/finbert-tone\")\n",
    "model = AutoModelForSequenceClassification.from_pretrained(\"yiyanghkust/finbert-tone\")\n",
    "finbert_pipeline = pipeline(\"sentiment-analysis\", model=model, tokenizer=tokenizer)\n",
    "\n",
    "# Apply FinBERT to analyze sentiment\n",
    "def analyze_sentiment_finbert(text):\n",
    "    result = finbert_pipeline(text[:512])[0]  # truncate to 512 tokens for model input\n",
    "    return result['label'], result['score']\n",
    "\n",
    "# Assuming reddit_df is already defined with a 'combined_text' column\n",
    "reddit_df[[\"sentiment_class\", \"sentiment_score\"]] = reddit_df[\"title\"].apply(lambda x: pd.Series(analyze_sentiment_finbert(x)))\n",
    "# Drop unwanted columns\n",
    "reddit_df.drop(columns=[\"selftext\", \"combined_text\"], inplace=True, errors='ignore')\n",
    "\n",
    "# Save cleaned CSV\n",
    "reddit_df.to_csv(\"btc_price_data.csv\", index=False)\n",
    "\n",
    "reddit_df\n",
    "\n",
    "\n",
    "\n"
   ]
  },
  {
   "cell_type": "code",
   "execution_count": 55,
   "id": "ac13ba53",
   "metadata": {},
   "outputs": [
    {
     "name": "stdout",
     "output_type": "stream",
     "text": [
      "        price_usd        date\n",
      "0    85787.709149  2025-03-24\n",
      "1    87327.729697  2025-03-25\n",
      "2    87520.583915  2025-03-26\n",
      "3    86960.855549  2025-03-27\n",
      "4    87227.271580  2025-03-28\n",
      "..            ...         ...\n",
      "56  106030.637683  2025-05-19\n",
      "57  105629.415804  2025-05-20\n",
      "58  106786.719958  2025-05-21\n",
      "59  109665.863716  2025-05-22\n",
      "60  110722.145571  2025-05-22\n",
      "\n",
      "[61 rows x 2 columns]\n"
     ]
    }
   ],
   "source": [
    "import requests\n",
    "import pandas as pd\n",
    "from datetime import datetime\n",
    "\n",
    "# Request 60 days of daily prices for Bitcoin in USD\n",
    "url = \"https://api.coingecko.com/api/v3/coins/bitcoin/market_chart\"\n",
    "params = {\n",
    "    \"vs_currency\": \"usd\",\n",
    "    \"days\": \"60\",         # You can also use 'max' for all-time data\n",
    "    \"interval\": \"daily\"\n",
    "}\n",
    "\n",
    "response = requests.get(url, params=params)\n",
    "data = response.json()\n",
    "\n",
    "# Convert price data\n",
    "prices = data[\"prices\"]  # List of [timestamp, price]\n",
    "\n",
    "price_df = pd.DataFrame(prices, columns=[\"timestamp\", \"price_usd\"])\n",
    "price_df[\"date\"] = pd.to_datetime(price_df[\"timestamp\"], unit='ms').dt.date\n",
    "price_df = price_df.drop(columns=\"timestamp\")\n",
    "\n",
    "print(price_df)\n",
    "price_df.to_csv(\"btc_price_data.csv\",index=False)"
   ]
  },
  {
   "cell_type": "markdown",
   "id": "cd5d6eb8",
   "metadata": {},
   "source": [
    "Bitcoin 24hr volume vs reddit sentiment"
   ]
  },
  {
   "cell_type": "code",
   "execution_count": 65,
   "id": "21605ddb",
   "metadata": {},
   "outputs": [
    {
     "name": "stdout",
     "output_type": "stream",
     "text": [
      "     volume_usd        date\n",
      "0   12617587531  2025-03-24\n",
      "1   27270889835  2025-03-25\n",
      "2   30351832943  2025-03-26\n",
      "3   25522877559  2025-03-27\n",
      "4   24620445368  2025-03-28\n",
      "..          ...         ...\n",
      "56  30744060180  2025-05-19\n",
      "57  43339734154  2025-05-20\n",
      "58  36393687094  2025-05-21\n",
      "59  60722883114  2025-05-22\n",
      "60  72355409072  2025-05-22\n",
      "\n",
      "[61 rows x 2 columns]\n"
     ]
    }
   ],
   "source": [
    "import requests\n",
    "import pandas as pd\n",
    "from datetime import datetime\n",
    "\n",
    "# Request 60 days of daily prices for Bitcoin in USD\n",
    "url = \"https://api.coingecko.com/api/v3/coins/bitcoin/market_chart\"\n",
    "params = {\n",
    "    \"vs_currency\": \"usd\",\n",
    "    \"days\": \"60\",         # You can also use 'max' for all-time data\n",
    "    \"interval\": \"daily\"\n",
    "}\n",
    "\n",
    "response = requests.get(url, params=params)\n",
    "data = response.json()\n",
    "# Extract volume data\n",
    "volumes = data[\"total_volumes\"]  # List of [timestamp, volume]\n",
    "\n",
    "# Format to DataFrame\n",
    "volume_df = pd.DataFrame(volumes, columns=[\"timestamp\", \"volume_usd\"])\n",
    "volume_df[\"date\"] = pd.to_datetime(volume_df[\"timestamp\"], unit=\"ms\").dt.date\n",
    "volume_df[\"volume_usd\"] = volume_df[\"volume_usd\"].astype(\"float64\").round(0).astype(\"int64\")\n",
    "volume_df = volume_df.drop(columns=\"timestamp\")\n",
    "\n",
    "print(volume_df)"
   ]
  },
  {
   "cell_type": "code",
   "execution_count": null,
   "id": "3295b59f",
   "metadata": {},
   "outputs": [
    {
     "name": "stdout",
     "output_type": "stream",
     "text": [
      "volume data saved\n"
     ]
    }
   ],
   "source": [
    "volume_merged_df=pd.merge(reddit_df,volume_df,on=\"date\",how=\"inner\")\n",
    "volume_merged_df.to_csv(\"btc_sentiment_volume.csv\",index=False)\n",
    "print(\"volume data saved\")"
   ]
  },
  {
   "cell_type": "code",
   "execution_count": null,
   "id": "cf801bf4",
   "metadata": {},
   "outputs": [
    {
     "data": {
      "text/plain": [
       "500"
      ]
     },
     "execution_count": 67,
     "metadata": {},
     "output_type": "execute_result"
    }
   ],
   "source": [
    "merged_df = pd.merge(reddit_df, price_df, on=\"date\", how=\"inner\")\n",
    "merged_df.to_csv(\"btc_sentiment_price.csv\", index=False)\n",
    "print(\"price data saved\")\n"
   ]
  },
  {
   "cell_type": "markdown",
   "id": "f963d929",
   "metadata": {},
   "source": [
    "Connecting and uploading data to snowflake"
   ]
  },
  {
   "cell_type": "code",
   "execution_count": null,
   "id": "3ab5a3a9",
   "metadata": {},
   "outputs": [],
   "source": [
    "import snowflake.connector\n",
    "import pandas as pd\n",
    "import os\n",
    "from dotenv import load_dotenv\n",
    "\n",
    "load_dotenv()\n",
    "\n",
    "# Load your CSV\n",
    "df = pd.read_csv(\"btc_sentiment_price.csv\")\n",
    "\n",
    "\n",
    "# Snowflake connection info\n",
    "conn = snowflake.connector.connect(\n",
    "    user=os.getenv('SNOWFLAKE_USER'),\n",
    "    password=os.getenv('SNOWFLAKE_PASSWORD'),\n",
    "    account=os.getenv('SNOWFLAKE_ACCOUNT'), # e.g. abcde-xy12345\n",
    "    warehouse=os.getenv('SNOWFLAKE_WAREHOUSE'),\n",
    "    database=os.getenv('SNOWFLAKE_DATABASE'),\n",
    "    schema=os.getenv('SNOWFLAKE_SCHEMA')\n",
    ")"
   ]
  },
  {
   "cell_type": "code",
   "execution_count": 13,
   "id": "1950a700",
   "metadata": {},
   "outputs": [
    {
     "data": {
      "text/plain": [
       "True"
      ]
     },
     "execution_count": 13,
     "metadata": {},
     "output_type": "execute_result"
    }
   ],
   "source": [
    "create_table_query = \"\"\"\n",
    "CREATE OR REPLACE TABLE BTC_SENTIMENT_PRICE (\n",
    "    date DATE,\n",
    "    title STRING,\n",
    "    selftext STRING,\n",
    "    combined_text STRING,\n",
    "    sentiment_class STRING,\n",
    "    sentiment_score FLOAT,\n",
    "    price_usd FLOAT\n",
    ");\n",
    "\"\"\"\n",
    "\n",
    "cursor = conn.cursor()\n",
    "cursor.execute(create_table_query)\n",
    "cursor.close()\n"
   ]
  },
  {
   "cell_type": "code",
   "execution_count": null,
   "id": "905120f3",
   "metadata": {},
   "outputs": [
    {
     "data": {
      "text/plain": [
       "<snowflake.connector.cursor.SnowflakeCursor at 0x31fa7efd0>"
      ]
     },
     "execution_count": 24,
     "metadata": {},
     "output_type": "execute_result"
    }
   ],
   "source": [
    "# Step 1: Upload file to internal stage (e.g., table stage)\n",
    "cursor = conn.cursor()\n",
    "cursor.execute(\"\"\"\n",
    "    PUT file://btc_sentiment_price.csv @%BTC_SENTIMENT_PRICE OVERWRITE = TRUE\n",
    "\"\"\")\n",
    "\n",
    "# Step 2: Copy data into the table\n",
    "cursor.execute(\"\"\"\n",
    "    COPY INTO BTC_SENTIMENT_PRICE\n",
    "    FROM @%BTC_SENTIMENT_PRICE\n",
    "    FILE_FORMAT = (TYPE = CSV FIELD_OPTIONALLY_ENCLOSED_BY = '\"' SKIP_HEADER = 1)\n",
    "\"\"\")\n",
    "\n",
    "cursor.close()\n",
    "conn.close()"
   ]
  },
  {
   "cell_type": "code",
   "execution_count": 27,
   "id": "6ff4003a",
   "metadata": {},
   "outputs": [
    {
     "data": {
      "text/plain": [
       "<snowflake.connector.cursor.SnowflakeCursor at 0x286f9aad0>"
      ]
     },
     "execution_count": 27,
     "metadata": {},
     "output_type": "execute_result"
    }
   ],
   "source": [
    "create_table_query = \"\"\"\n",
    "CREATE OR REPLACE TABLE CRYPTO_POPULARITY (\n",
    "    COIN STRING,\n",
    "    MENTIONS INT\n",
    ");\n",
    "\"\"\"\n",
    "\n",
    "cursor = conn.cursor()\n",
    "cursor.execute(create_table_query)\n"
   ]
  },
  {
   "cell_type": "code",
   "execution_count": null,
   "id": "82cfa8be",
   "metadata": {},
   "outputs": [
    {
     "name": "stdout",
     "output_type": "stream",
     "text": [
      "✅ crypto_popularity.csv uploaded to Snowflake!\n"
     ]
    }
   ],
   "source": [
    "import snowflake.connector\n",
    "from dotenv import load_dotenv\n",
    "import os\n",
    "\n",
    "\n",
    "# Step 1: Upload file to internal stage\n",
    "cursor.execute(\"\"\"\n",
    "    PUT file://crypto_popularity.csv @%CRYPTO_POPULARITY OVERWRITE = TRUE\n",
    "\"\"\")\n",
    "\n",
    "# Step 2: Copy data from staged file to table\n",
    "cursor.execute(\"\"\"\n",
    "    COPY INTO CRYPTO_POPULARITY\n",
    "    FROM @%CRYPTO_POPULARITY\n",
    "    FILE_FORMAT = (TYPE = CSV FIELD_OPTIONALLY_ENCLOSED_BY = '\"' SKIP_HEADER = 1)\n",
    "\"\"\")\n",
    "\n",
    "cursor.close()\n",
    "conn.close()\n",
    "print(\"crypto_popularity.csv uploaded to Snowflake!\")\n"
   ]
  }
 ],
 "metadata": {
  "kernelspec": {
   "display_name": "data_env",
   "language": "python",
   "name": "python3"
  },
  "language_info": {
   "codemirror_mode": {
    "name": "ipython",
    "version": 3
   },
   "file_extension": ".py",
   "mimetype": "text/x-python",
   "name": "python",
   "nbconvert_exporter": "python",
   "pygments_lexer": "ipython3",
   "version": "3.13.3"
  }
 },
 "nbformat": 4,
 "nbformat_minor": 5
}
